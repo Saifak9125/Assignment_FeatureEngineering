{
  "nbformat": 4,
  "nbformat_minor": 0,
  "metadata": {
    "colab": {
      "provenance": []
    },
    "kernelspec": {
      "name": "python3",
      "display_name": "Python 3"
    },
    "language_info": {
      "name": "python"
    }
  },
  "cells": [
    {
      "cell_type": "markdown",
      "source": [
        "# **Assgnment : Feature Engineering**"
      ],
      "metadata": {
        "id": "4CvxLRKzD2ms"
      }
    },
    {
      "cell_type": "markdown",
      "source": [
        "# **1.What is a parameter?**"
      ],
      "metadata": {
        "id": "kP7NPe62EE8R"
      }
    },
    {
      "cell_type": "markdown",
      "source": [
        "## -> In machine learning, a parameter is a variable that a model learns from the training data. Parameters define how the model makes predictions and are adjusted during training to minimize error."
      ],
      "metadata": {
        "id": "w478p5qjEJ1t"
      }
    },
    {
      "cell_type": "markdown",
      "source": [
        "# **2. What is correlation?**\n",
        "# **What does negative correlation mean?**"
      ],
      "metadata": {
        "id": "caLJHOO2FEnN"
      }
    },
    {
      "cell_type": "markdown",
      "source": [
        "## Correlation measures the statistical relationship between two variables. It quantifies how strongly two variables are related and the direction of that relationship.\n",
        "\n",
        "## **Negative Correlation**: When two variables tend to move in opposite directions.\n",
        "## As one variable increases, the other variable tends to decrease.\n",
        "## **Example**: Temperature and ice cream sales. As the temperature increases, ice cream sales tend to increase."
      ],
      "metadata": {
        "id": "wYEkIpxIFTWo"
      }
    },
    {
      "cell_type": "markdown",
      "source": [
        "# **3.Define Machine Learning. What are the main components in Machine Learning?**"
      ],
      "metadata": {
        "id": "a17SPjH4Fr7a"
      }
    },
    {
      "cell_type": "markdown",
      "source": [
        "## Machine Learning is a subfield of computer science it gives the ability to the computer to learn pattern from the data without explicitly programmed.\n",
        "\n",
        "## **Main Components of Machine Learning**\n",
        "## **Data**\n",
        "\n",
        "## -> The foundation of ML. Data can be structured (tables, databases) or unstructured (images, text).\n",
        "## -> Divided into training, validation, and testing datasets.\n",
        "## **Features**\n",
        "\n",
        "## -> Attributes or characteristics extracted from the data to help the model make predictions.\n",
        "## -> Feature engineering and selection are key to improving model performance.\n",
        "## **Model**\n",
        "\n",
        "## -> The mathematical structure (e.g., linear regression, decision tree, neural network) that processes input data to make predictions.\n",
        "## -> Different models are chosen based on the problem type (classification, regression, clustering).\n",
        "## **Algorithm**\n",
        "\n",
        "## Defines how the model learns from data. Common algorithms include:\n",
        "## -> Supervised Learning (e.g., Decision Trees, Support Vector Machines)\n",
        "## -> Unsupervised Learning (e.g., K-Means, PCA)\n",
        "## -> Reinforcement Learning (e.g., Q-learning, Deep Q Networks)"
      ],
      "metadata": {
        "id": "ENelHmOrHR2f"
      }
    },
    {
      "cell_type": "markdown",
      "source": [
        "# **4. How does loss value help in determining whether the model is good or not?**"
      ],
      "metadata": {
        "id": "F7sHyxwPNQN2"
      }
    },
    {
      "cell_type": "markdown",
      "source": [
        "## **How Loss Value Helps in Evaluating a Model**\n",
        "## The loss value is a numerical measure of how well (or poorly) a machine learning model is performing. It quantifies the difference between the model’s predictions and the actual values from the dataset. A lower loss value generally indicates a better model, whereas a higher loss value suggests poor performance.\n",
        "\n"
      ],
      "metadata": {
        "id": "E7F_Fx-bNoMx"
      }
    },
    {
      "cell_type": "markdown",
      "source": [
        "# **5.What are continuous and categorical variables?**"
      ],
      "metadata": {
        "id": "rLFcNQW0NyEL"
      }
    },
    {
      "cell_type": "markdown",
      "source": [
        "## **1. Continuous Variables**\n",
        "## -> A continuous variable can take an infinite number of values within a given range. These are typically numerical values that can be measured and have decimal precision.\n",
        "\n",
        "## Examples:\n",
        "## Height\n",
        "## Temperature\n",
        "## Price\n",
        "## Age\n",
        "\n",
        "## **2. Categorical Variables**\n",
        "## -> A categorical variable represents distinct groups or categories. These values are not numerical but instead belong to specific groups or labels.\n",
        "\n",
        "## Types of Categorical Variables:\n",
        "## **Nominal Variables (No inherent order)**\n",
        "## Examples: Gender (Male, Female, Other), Color (Red, Blue, Green)\n",
        "## **Ordinal Variables (Has an inherent order)**\n",
        "## Examples: Education Level (High School < Bachelor's < Master's < PhD), Customer Satisfaction (Low, Medium, High)"
      ],
      "metadata": {
        "id": "_f5OxuCJOHL8"
      }
    },
    {
      "cell_type": "markdown",
      "source": [
        "# **6. How do we handle categorical variables in Machine Learning? What are the common techniques?**"
      ],
      "metadata": {
        "id": "HY_r4MheOtmo"
      }
    },
    {
      "cell_type": "markdown",
      "source": [
        "## Categorical variables represent data that can take on a limited number of discrete values, such as \"color\" (red, blue, green), \"city\" (New York, Paris, London), or \"occupation\" (doctor, engineer, teacher).\n",
        "\n",
        "## Since most machine learning algorithms require numerical input, we need to convert these categorical values into a suitable numerical representation. Here are some common techniques:\n",
        "\n",
        "## **1. One-Hot Encoding:**\n",
        "\n",
        "## **Principle**: Creates new binary features (columns) for each category within a categorical variable.\n",
        "## **Example**: If the \"color\" feature has values \"red\", \"blue\", and \"green\", one-hot encoding would create three new binary features: \"color_red\", \"color_blue\", and \"color_green\". A data point with \"red\" as the color would have a value of 1 for \"color_red\" and 0 for the other two features.\n",
        "## **Advantages**: Simple to understand and implement. Preserves information about the absence or presence of a category.\n",
        "## **Disadvantages**: Can increase the dimensionality of the data significantly, especially with many categories.\n",
        "## **2. Label Encoding**:\n",
        "\n",
        "## **Principle**: Assigns a unique integer to each category.\n",
        "## **Example**: If the \"color\" feature has values \"red\", \"blue\", and \"green\", they might be assigned integers 0, 1, and 2 respectively.\n",
        "## **Advantages**: Simple to implement.\n",
        "## **Disadvantages**: Introduces an artificial order among the categories, which may not be meaningful. This can be problematic for some algorithms.\n",
        "## **3. Ordinal Encoding:**\n",
        "\n",
        "## **Principle**: Similar to label encoding, but used when there is a natural order among the categories.\n",
        "## **Example**: For categories like \"low\", \"medium\", and \"high\", you would assign increasing integers (e.g., 0, 1, 2).\n",
        "## **Advantages**: Preserves the order information.\n",
        "## **Disadvantages**: Only suitable for ordinal categorical variables.\n",
        "## **4. Target Encoding (Mean Encoding)**:\n",
        "\n",
        "## **Principle**: Replaces each category with the mean (or other statistics) of the target variable for that category.\n",
        "## **Example:** If predicting house prices, replace the \"city\" category with the average house price in that city.\n",
        "## **Advantages:** Can capture relationships between the categorical variable and the target variable more effectively.\n",
        "## **Disadvantages:** Can be prone to overfitting, especially with small datasets.\n",
        "\n"
      ],
      "metadata": {
        "id": "tVTK_7ApPXBt"
      }
    },
    {
      "cell_type": "markdown",
      "source": [
        "# **7.What do you mean by training and testing a dataset?**"
      ],
      "metadata": {
        "id": "E9dArkK-Q6r6"
      }
    },
    {
      "cell_type": "markdown",
      "source": [
        "## **1. Training Data:**\n",
        "\n",
        "## This portion of the data is used to \"teach\" the machine learning algorithm. The model learns patterns, relationships, and underlying structures within the training data. It adjusts its internal parameters (weights and biases) to minimize errors and make accurate predictions on the training data.\n",
        "## **2. Testing Data:**\n",
        "\n",
        "## This portion of the data is kept separate from the training data and is used to evaluate how well the trained model performs on unseen data. The model makes predictions on the testing data, and these predictions are compared to the actual known outcomes. This allows you to assess the model's ability to generalize to new, unseen data.\n"
      ],
      "metadata": {
        "id": "wPvU7ANJRSTv"
      }
    },
    {
      "cell_type": "markdown",
      "source": [
        "# **8.What is sklearn.preprocessing?**"
      ],
      "metadata": {
        "id": "6J8JtayuR1cI"
      }
    },
    {
      "cell_type": "markdown",
      "source": [
        "## sklearn.preprocessing is a submodule within the scikit-learn library in Python that provides a set of tools for data preprocessing."
      ],
      "metadata": {
        "id": "2WUoAzGMSEW3"
      }
    },
    {
      "cell_type": "markdown",
      "source": [
        "# **9. What is a Test set?**"
      ],
      "metadata": {
        "id": "D1sKYBmPSRzI"
      }
    },
    {
      "cell_type": "markdown",
      "source": [
        "## In machine learning, a test set is a portion of your data that is completely separate from the data used to train the model."
      ],
      "metadata": {
        "id": "6pDmlO_dSiQu"
      }
    },
    {
      "cell_type": "markdown",
      "source": [
        "# **10. How do we split data for model fitting (training and testing) in Python?How do you approach a Machine Learning problem?**"
      ],
      "metadata": {
        "id": "J-YMwL6GSsgb"
      }
    },
    {
      "cell_type": "markdown",
      "source": [
        "## In machine learning, we split the dataset into training, validation, and test sets to evaluate model performance properly.\n",
        "\n",
        "##  **Common Split Ratios:**\n",
        "## **Training Set (70-80%):** Used to train the model.\n",
        "## **Validation Set (10-15%):** Used to tune hyperparameters and prevent overfitting.\n",
        "## **Test Set (10-20%):** Used to evaluate final model performance on unseen data.\n",
        "\n",
        "## **How to Approach a Machine Learning Problem?**\n",
        "\n",
        "## **Step 1:** Define the Problem\n",
        "\n",
        "## Identify the objective (Regression, Classification, Clustering).\n",
        "## Understand the business or real-world impact.\n",
        "## **Step 2:** Collect & Explore Data\n",
        "\n",
        "##Gather datasets (CSV, databases, APIs).\n",
        "## Check for missing values, outliers, and imbalanced classes.\n",
        "## **Step 3:** Data Preprocessing\n",
        "\n",
        "## Handle missing values (imputation, removal).\n",
        "## Encode categorical variables (One-Hot Encoding, Label Encoding).\n",
        "## Normalize or standardize numerical variables.\n",
        "## Feature engineering (create new features, extract information).\n",
        "## **Step 4:** Split the Data\n",
        "\n",
        "## Divide into training, validation, and test sets.\n",
        "## Use stratified splitting if necessary.\n",
        "## **Step 5:** Choose a Model & Train\n",
        "\n",
        "## Select a model (Linear Regression, Decision Tree, Random Forest, Neural Network).\n",
        "## Train the model using training data.\n",
        "## **Step 6:** Evaluate Model Performance\n",
        "\n",
        "## Use metrics:\n",
        "## Regression → MSE, RMSE, R² Score.\n",
        "## Classification → Accuracy, Precision, Recall, F1-score, ROC-AUC.\n",
        "## **Step 7:** Hyperparameter Tuning\n",
        "\n",
        "## Use Grid Search, Random Search, or Bayesian Optimization to optimize parameters.\n",
        "## **Step 8:** Final Testing & Deployment\n",
        "\n",
        "## Evaluate on test data.\n",
        "## Deploy using Flask, FastAPI, or cloud platforms like AWS/GCP.\n"
      ],
      "metadata": {
        "id": "4BwVFCMSTVdv"
      }
    },
    {
      "cell_type": "markdown",
      "source": [
        "# **11. Why do we have to perform EDA before fitting a model to the data?**"
      ],
      "metadata": {
        "id": "HBU6MEOMhylD"
      }
    },
    {
      "cell_type": "markdown",
      "source": [
        "## Exploratory Data Analysis (EDA) is a crucial step before fitting a model to the data because it helps ensure the quality, relevance, and reliability of the data. Here are the key reasons why EDA is important:\n",
        "## **1. Understanding the Data**\n",
        "## EDA helps you grasp the structure, distribution, and patterns within the dataset.\n",
        "## It allows you to check for missing values, outliers, and inconsistencies that might affect model performance.\n",
        "## **2. Detecting Data Quality Issues**\n",
        "## Identifies missing values and suggests ways to handle them (e.g., imputation or removal).\n",
        "## Detects outliers that could distort model predictions.\n",
        "## Uncovers duplicate or erroneous data that needs to be corrected.\n",
        "## **3. Feature Selection & Engineering**\n",
        "## Helps determine which features are relevant and which might be redundant or correlated.\n",
        "## Reveals opportunities for feature transformations, such as scaling, normalization, or encoding categorical variables.\n",
        "## **4. Understanding Relationships Between Variables**\n",
        "## Identifies correlations and dependencies between features.\n",
        "## Helps avoid multicollinearity, which can impact model interpretability and performance.\n",
        "## **5. Choosing the Right Model**\n",
        "## Different data distributions and relationships might favor different models.\n",
        "## Understanding data characteristics helps in selecting between linear, tree-based, or deep learning models.\n",
        "## **6. Preventing Model Bias & Overfitting**\n",
        "## Helps ensure the dataset is representative and does not contain biases that could lead to misleading predictions.\n",
        "## Allows you to split data properly into training, validation, and test sets to ensure generalization.\n",
        "## **7. Improving Model Performance**\n",
        "## Cleaning and preprocessing data through EDA leads to better model accuracy and efficiency.\n",
        "## Helps in selecting appropriate transformations, such as log transformations for skewed distributions."
      ],
      "metadata": {
        "id": "OtdP77XRiXA7"
      }
    },
    {
      "cell_type": "markdown",
      "source": [
        "## **12. What is correlation?**"
      ],
      "metadata": {
        "id": "VGBGSutnjZYg"
      }
    },
    {
      "cell_type": "markdown",
      "source": [
        "## Correlation measures the statistical relationship between two variables. It quantifies how strongly two variables are related and the direction of that relationship."
      ],
      "metadata": {
        "id": "Q9eG4GS9j1yD"
      }
    },
    {
      "cell_type": "markdown",
      "source": [
        "# **13. What does negative correlation mean?**"
      ],
      "metadata": {
        "id": "3kpqcfaIkBbg"
      }
    },
    {
      "cell_type": "markdown",
      "source": [
        "## **Negative Correlation**: When two variables tend to move in opposite directions.\n",
        "## As one variable increases, the other variable tends to decrease.\n",
        "## **Example**: Temperature and ice cream sales. As the temperature increases, ice cream sales tend to increase."
      ],
      "metadata": {
        "id": "fryBEgxfkSDq"
      }
    },
    {
      "cell_type": "markdown",
      "source": [
        "# **14. How can you find correlation between variables in Python?**"
      ],
      "metadata": {
        "id": "NZPiOE0ikY4j"
      }
    },
    {
      "cell_type": "markdown",
      "source": [
        "## In Python, you can find the correlation between variables using Pandas, NumPy, and Seaborn. Here are different ways to do it:"
      ],
      "metadata": {
        "id": "u9krWRC3k82z"
      }
    },
    {
      "cell_type": "markdown",
      "source": [
        "## **1. Using corr() in Pandas**\n",
        "## Pandas provides the .corr() method to compute pairwise correlation between columns.\n"
      ],
      "metadata": {
        "id": "bL8nwl2flcz9"
      }
    },
    {
      "cell_type": "code",
      "source": [
        "import pandas as pd\n",
        "\n",
        "# Sample dataset\n",
        "data = {\n",
        "    'A': [1, 2, 3, 4, 5],\n",
        "    'B': [2, 4, 6, 8, 10],\n",
        "    'C': [5, 3, 2, 4, 1]\n",
        "}\n",
        "\n",
        "df = pd.DataFrame(data)\n",
        "\n",
        "# Compute correlation matrix\n",
        "correlation_matrix = df.corr()\n",
        "print(correlation_matrix)\n"
      ],
      "metadata": {
        "id": "g7p9xNSsEEhc",
        "colab": {
          "base_uri": "https://localhost:8080/"
        },
        "outputId": "d7de0325-019f-4b34-c96d-28fa41c5fa2c"
      },
      "execution_count": 1,
      "outputs": [
        {
          "output_type": "stream",
          "name": "stdout",
          "text": [
            "     A    B    C\n",
            "A  1.0  1.0 -0.7\n",
            "B  1.0  1.0 -0.7\n",
            "C -0.7 -0.7  1.0\n"
          ]
        }
      ]
    },
    {
      "cell_type": "markdown",
      "source": [
        "## **2. Using Seaborn's Heatmap for Visualization**\n",
        "## A heatmap helps to visualize correlations easily.\n"
      ],
      "metadata": {
        "id": "5bThs5bkmB8B"
      }
    },
    {
      "cell_type": "markdown",
      "source": [],
      "metadata": {
        "id": "BSsPcPJSmB3Z"
      }
    },
    {
      "cell_type": "code",
      "execution_count": 2,
      "metadata": {
        "id": "INmtTOshDn9E",
        "colab": {
          "base_uri": "https://localhost:8080/",
          "height": 391
        },
        "outputId": "4e89c500-cec1-4884-ff32-d742ddb17d32"
      },
      "outputs": [
        {
          "output_type": "display_data",
          "data": {
            "text/plain": [
              "<Figure size 600x400 with 2 Axes>"
            ],
            "image/png": "[encoded data removed]"
          },
          "metadata": {}
        }
      ],
      "source": [
        "import seaborn as sns\n",
        "import matplotlib.pyplot as plt\n",
        "\n",
        "# Plot heatmap\n",
        "plt.figure(figsize=(6, 4))\n",
        "sns.heatmap(df.corr(), annot=True, cmap='coolwarm', fmt=\".2f\")\n",
        "plt.title(\"Correlation Matrix Heatmap\")\n",
        "plt.show()\n"
      ]
    },
    {
      "cell_type": "markdown",
      "source": [
        "# **3. Using NumPy’s corrcoef()**\n",
        "## If you have two NumPy arrays instead of a DataFrame:"
      ],
      "metadata": {
        "id": "FlT0TCFqmTYm"
      }
    },
    {
      "cell_type": "code",
      "source": [
        "import numpy as np\n",
        "\n",
        "A = np.array([1, 2, 3, 4, 5])\n",
        "B = np.array([2, 4, 6, 8, 10])\n",
        "\n",
        "correlation = np.corrcoef(A, B)\n",
        "print(correlation)\n"
      ],
      "metadata": {
        "colab": {
          "base_uri": "https://localhost:8080/"
        },
        "id": "-An0ub3nmMNC",
        "outputId": "fcf5e9b0-b2bd-4c6e-8145-b8b01b11fb53"
      },
      "execution_count": 3,
      "outputs": [
        {
          "output_type": "stream",
          "name": "stdout",
          "text": [
            "[[1. 1.]\n",
            " [1. 1.]]\n"
          ]
        }
      ]
    },
    {
      "cell_type": "markdown",
      "source": [
        "# **15. What is causation? Explain difference between correlation and causation with an example.**"
      ],
      "metadata": {
        "id": "U6hwvhIomlIw"
      }
    },
    {
      "cell_type": "markdown",
      "source": [
        "## **Causation** means that a change in one variable directly causes a change in another. In other words, there is a cause-and-effect relationship between two variables.\n",
        "\n",
        "## **Difference Between Correlation and Causation**\n",
        "## **Correlation**\n",
        "## -> Measures the relationship between two variables.\n",
        "## -> Does not indicate which variable influences the other.\n",
        "## -> There may be a third variable (confounder) influencing both.\n",
        "## -> Statistical methods (e.g., Pearson correlation).\n",
        "\n",
        "## **Causation**\n",
        "\n",
        "## -> One variable directly affects another.\n",
        "## -> Shows cause-and-effect direction.\n",
        "## -> The effect is directly due to the independent variable.\n",
        "## -> Requires experiments or controlled studies.\n",
        "\n"
      ],
      "metadata": {
        "id": "66jaG7G7m2p4"
      }
    },
    {
      "cell_type": "markdown",
      "source": [
        "# **16. What is an Optimizer? What are different types of optimizers? Explain each with an example.**"
      ],
      "metadata": {
        "id": "cF9hTwiCrZ2b"
      }
    },
    {
      "cell_type": "markdown",
      "source": [
        "## An optimizer in machine learning and deep learning is an algorithm that adjusts model parameters (weights & biases) to minimize the loss function and improve accuracy. It updates the parameters iteratively to find the optimal values that best fit the data.\n",
        "\n",
        "## **1. First-Order Optimization Algorithms (Gradient-Based)**\n",
        "## These optimizers use gradients of the loss function to update model parameters.\n",
        "\n",
        "## **(a) Gradient Descent (GD)**\n",
        "## The most basic optimization algorithm.\n",
        "## Updates parameters using the gradient of the loss function.\n",
        "## Formula:\n",
        "\n",
        "𝜃\n",
        "=\n",
        "𝜃\n",
        "−\n",
        "𝛼\n",
        "∇\n",
        "𝐽\n",
        "(\n",
        "𝜃\n",
        ")\n",
        "\n",
        "\n",
        "## Types of Gradient Descent:\n",
        "\n",
        "## **Batch Gradient Descent (BGD):** Uses the entire dataset to compute gradients.\n",
        "✅ Stable but slow.\n",
        "❌ Not suitable for large datasets.\n",
        "Stochastic Gradient Descent (SGD): Updates parameters using one sample at a time.\n",
        "✅ Faster than BGD.\n",
        "❌ Noisy convergence.\n",
        "Mini-Batch Gradient Descent: Uses a small batch of samples for updates.\n",
        "✅ Balances efficiency & accuracy.\n",
        "Example in Python:\n",
        "\n",
        "python\n",
        "Copy\n",
        "Edit\n",
        "from tensorflow.keras.optimizers import SGD\n",
        "optimizer = SGD(learning_rate=0.01)\n",
        "(b) Momentum-Based Optimization\n",
        "Introduces a momentum term to accelerate convergence and reduce oscillations.\n",
        "Formula:\n",
        "\n",
        "𝑣\n",
        "𝑡\n",
        "=\n",
        "𝛽\n",
        "𝑣\n",
        "𝑡\n",
        "−\n",
        "1\n",
        "+\n",
        "(\n",
        "1\n",
        "−\n",
        "𝛽\n",
        ")\n",
        "∇\n",
        "𝐽\n",
        "(\n",
        "𝜃\n",
        ")\n",
        "v\n",
        "t\n",
        "​\n",
        " =βv\n",
        "t−1\n",
        "​\n",
        " +(1−β)∇J(θ)\n",
        "𝜃\n",
        "=\n",
        "𝜃\n",
        "−\n",
        "𝛼\n",
        "𝑣\n",
        "𝑡\n",
        "θ=θ−αv\n",
        "t\n",
        "​\n",
        "\n",
        "Example in Python:\n",
        "\n",
        "python\n",
        "Copy\n",
        "Edit\n",
        "optimizer = SGD(learning_rate=0.01, momentum=0.9)\n",
        "✅ Pros: Faster convergence than vanilla SGD\n",
        "❌ Cons: May overshoot if momentum is too high\n",
        "\n",
        "2. Second-Order Optimization Algorithms (Hessian-Based)\n",
        "These optimizers use second-order derivatives (Hessian matrix) to adjust learning rates.\n",
        "\n",
        "(a) Newton’s Method\n",
        "Uses the Hessian matrix to adjust learning rates dynamically.\n",
        "Formula:\n",
        "\n",
        "𝜃\n",
        "=\n",
        "𝜃\n",
        "−\n",
        "𝐻\n",
        "−\n",
        "1\n",
        "∇\n",
        "𝐽\n",
        "(\n",
        "𝜃\n",
        ")\n",
        "θ=θ−H\n",
        "−1\n",
        " ∇J(θ)\n",
        "✅ Pros: More precise updates\n",
        "❌ Cons: Computationally expensive\n",
        "\n",
        "3. Adaptive Learning Rate Optimizers\n",
        "These adjust the learning rate dynamically for better convergence.\n",
        "\n",
        "(a) AdaGrad (Adaptive Gradient)\n",
        "Assigns different learning rates to different parameters based on past gradients.\n",
        "✅ Pros: Works well for sparse data.\n",
        "❌ Cons: Learning rate decreases aggressively over time.\n",
        "\n",
        "python\n",
        "Copy\n",
        "Edit\n",
        "from tensorflow.keras.optimizers import Adagrad\n",
        "optimizer = Adagrad(learning_rate=0.01)\n",
        "(b) RMSprop (Root Mean Square Propagation)\n",
        "Uses moving averages of squared gradients for adaptive learning rates.\n",
        "Works well for deep networks and RNNs.\n",
        "✅ Pros: Effective in non-stationary problems.\n",
        "❌ Cons: Sensitive to hyperparameters.\n",
        "\n",
        "python\n",
        "Copy\n",
        "Edit\n",
        "from tensorflow.keras.optimizers import RMSprop\n",
        "optimizer = RMSprop(learning_rate=0.001)\n",
        "(c) Adam (Adaptive Moment Estimation)\n",
        "Combines Momentum & RMSprop for efficient updates.\n",
        "The most widely used optimizer in deep learning.\n",
        "✅ Pros: Works well in most cases.\n",
        "❌ Cons: May generalize poorly in some problems.\n",
        "\n",
        "python\n",
        "Copy\n",
        "Edit\n",
        "from tensorflow.keras.optimizers import Adam\n",
        "optimizer = Adam(learning_rate=0.001)\n",
        "(d) AdaDelta\n",
        "A refined version of AdaGrad that does not decay learning rates aggressively.\n",
        "✅ Pros: No need for an initial learning rate.\n",
        "❌ Cons: May be slower in some cases.\n",
        "\n",
        "python\n",
        "Copy\n",
        "Edit\n",
        "from tensorflow.keras.optimizers import Adadelta\n",
        "optimizer = Adadelta(learning_rate=1.0)\n",
        "4. Derivative-Free Optimization\n",
        "Used when gradient information is unavailable.\n",
        "\n",
        "(a) Genetic Algorithms (GA)\n",
        "Inspired by natural selection, it evolves solutions over generations.\n",
        "✅ Pros: Works for non-differentiable functions.\n",
        "❌ Cons: Computationally expensive.\n",
        "\n",
        "python\n",
        "Copy\n",
        "Edit\n",
        "from geneticalgorithm import geneticalgorithm as ga\n",
        "(b) Particle Swarm Optimization (PSO)\n",
        "Inspired by swarm behavior (e.g., birds flocking).\n",
        "✅ Pros: Good for global optimization.\n",
        "❌ Cons: May get stuck in local optima.\n",
        "\n"
      ],
      "metadata": {
        "id": "05SZFhnmv3tB"
      }
    },
    {
      "cell_type": "markdown",
      "source": [
        "# **17.What is sklearn.linear_model ?**"
      ],
      "metadata": {
        "id": "KHDlTzczx65C"
      }
    },
    {
      "cell_type": "markdown",
      "source": [
        "## The sklearn.linear_model module in Scikit-Learn provides different types of linear models for regression and classification tasks. These models assume a linear relationship between input features and the target variable."
      ],
      "metadata": {
        "id": "L_OgTEL2yI1g"
      }
    },
    {
      "cell_type": "markdown",
      "source": [
        "# **18. What does model.fit() do? What arguments must be given?**"
      ],
      "metadata": {
        "id": "y29TcUw0yNxo"
      }
    },
    {
      "cell_type": "markdown",
      "source": [
        "## The **.fit()** method in Scikit-Learn (or other ML libraries like TensorFlow/Keras) is used to train (fit) a model on given data. It learns the relationship between input features (X) and target labels (y) by adjusting the model parameters.\n",
        "\n",
        "## **Arguments for model.fit()**\n",
        "## **X (Input Features):**\n",
        "\n",
        "## A 2D array (numpy.ndarray, pandas.DataFrame, etc.).\n",
        "## Shape: (n_samples, n_features).\n",
        "## **y (Target Labels):**\n",
        "\n",
        "## A 1D or 2D array (numpy.ndarray, pandas.Series, etc.).\n",
        "## Shape: (n_samples,) for single target, (n_samples, n_targets) for multiple targets.\n",
        "## **Additional Parameters (Optional, depending on model):**\n",
        "\n",
        "## sample_weight: Weights for samples (useful for imbalanced data).\n",
        "## epochs: For deep learning models (number of training iterations).\n",
        "## batch_size: Number of samples per gradient update (for deep learning).\n",
        "\n",
        "\n"
      ],
      "metadata": {
        "id": "w9bSwtL8yYWw"
      }
    },
    {
      "cell_type": "markdown",
      "source": [
        "## **19. What does model.predict() do? What arguments must be given?**"
      ],
      "metadata": {
        "id": "pxTSeeh5zeN7"
      }
    },
    {
      "cell_type": "markdown",
      "source": [
        "## The .predict() method in machine learning models is used to make predictions on new/unseen data after the model has been trained using .fit().\n",
        "\n",
        "## It takes input features (X) and outputs predicted values (y_pred).\n",
        "## The type of prediction depends on the model:\n",
        "## Regression models → Predict continuous values.\n",
        "## Classification models → Predict class labels or probabilities.\n",
        "\n",
        "## **Arguments for model.predict()**\n",
        "## **X (Input Features) → Required**\n",
        "\n",
        "## A 2D array (numpy.ndarray, pandas.DataFrame, etc.).\n",
        "## Shape: (n_samples, n_features).\n",
        "## Additional Arguments (Optional, depending on the model):\n",
        "\n",
        "## batch_size: (For deep learning) Number of samples processed at a time.\n",
        "## verbose: (For deep learning) Controls logging output during prediction.\n"
      ],
      "metadata": {
        "id": "C3jsuWkRzbGa"
      }
    },
    {
      "cell_type": "markdown",
      "source": [
        "# **20. What are continuous and categorical variables?**"
      ],
      "metadata": {
        "id": "wn2AKGJs0A_m"
      }
    },
    {
      "cell_type": "markdown",
      "source": [
        "## **1. Continuous Variables**\n",
        "## **Definition:** Continuous variables can take any numerical value within a range.\n",
        "## Characteristics:\n",
        "## Can have decimals (e.g., 1.5, 2.75).\n",
        "## Measured, not counted.\n",
        "## Infinite possible values.\n",
        "\n",
        "## **Categorical Variables**\n",
        "## **Definition:** Categorical variables represent groups or categories.\n",
        "## Characteristics:\n",
        "## Cannot have decimal values.\n",
        "## Limited, fixed number of values.\n",
        "## Data is classified into groups."
      ],
      "metadata": {
        "id": "wERruCT00FrN"
      }
    },
    {
      "cell_type": "markdown",
      "source": [
        "# **21. What is feature scaling? How does it help in Machine Learning?**"
      ],
      "metadata": {
        "id": "iB4sY1cS0vWs"
      }
    },
    {
      "cell_type": "markdown",
      "source": [
        "## Feature scaling is the process of normalizing or standardizing the range of independent variables (features) in a dataset. It ensures that all features contribute equally to the model, preventing bias due to different scales.\n",
        "\n",
        "## **Improves Model Performance**\n",
        "\n",
        "## Many ML algorithms (e.g., gradient descent, SVM, KNN) work better when features are on a similar scale.\n",
        "## **Avoids Dominance of Large Values**\n",
        "\n",
        "## Example: If we have height (in cm) and salary (in thousands), the model may give more importance to salary just because the numbers are larger.\n",
        "## **Speeds Up Convergence in Gradient Descent**\n",
        "\n",
        "## If features are on vastly different scales, optimization algorithms like Gradient Descent take longer to converge.\n",
        "## **Improves Distance-Based Algorithms**\n",
        "\n",
        "## Algorithms like KNN, K-Means, SVM use distance metrics (e.g., Euclidean distance). Scaling prevents features with larger magnitudes from dominating calculations."
      ],
      "metadata": {
        "id": "gF-QuXCL05B1"
      }
    },
    {
      "cell_type": "markdown",
      "source": [
        "# **22.How do we perform scaling in Python?**"
      ],
      "metadata": {
        "id": "JaRFSfwa3m-e"
      }
    },
    {
      "cell_type": "markdown",
      "source": [
        "## **1. Min-Max Scaling (Normalization)**\n",
        " ## Scaled range: [0, 1] (or [-1, 1] if specified).\n",
        "## Best for: Algorithms that assume bounded values (e.g., Neural Networks, KNN)."
      ],
      "metadata": {
        "id": "kM34MW1X1kJT"
      }
    },
    {
      "cell_type": "code",
      "source": [
        "from sklearn.preprocessing import MinMaxScaler\n",
        "import numpy as np\n",
        "\n",
        "X = np.array([[100], [200], [300], [400], [500]])\n",
        "scaler = MinMaxScaler()\n",
        "X_scaled = scaler.fit_transform(X)\n",
        "\n",
        "print(X_scaled)"
      ],
      "metadata": {
        "colab": {
          "base_uri": "https://localhost:8080/"
        },
        "id": "Mp8iqy4omc6_",
        "outputId": "27d547a9-9c35-4163-b056-3c43467a2a64"
      },
      "execution_count": 5,
      "outputs": [
        {
          "output_type": "stream",
          "name": "stdout",
          "text": [
            "[[0.  ]\n",
            " [0.25]\n",
            " [0.5 ]\n",
            " [0.75]\n",
            " [1.  ]]\n"
          ]
        }
      ]
    },
    {
      "cell_type": "markdown",
      "source": [
        "## **2. Standardization (Z-score Normalization)**\n",
        "Formula:\n",
        "𝑋\n",
        "′\n",
        "=\n",
        "𝑋\n",
        "−\n",
        "𝜇\n",
        "/\n",
        "𝜎\n",
        "\n",
        "\n",
        "Where\n",
        "𝜇\n",
        "μ is the mean and\n",
        "𝜎\n",
        "σ is the standard deviation.\n",
        "Scaled range: Mean = 0, Standard Deviation = 1.\n",
        "Best for: Normally distributed data (e.g., Linear Regression, Logistic Regression, PCA)."
      ],
      "metadata": {
        "id": "33SPDMD31_bx"
      }
    },
    {
      "cell_type": "code",
      "source": [
        "from sklearn.preprocessing import StandardScaler\n",
        "\n",
        "scaler = StandardScaler()\n",
        "X_standardized = scaler.fit_transform(X)\n",
        "\n",
        "print(X_standardized)"
      ],
      "metadata": {
        "colab": {
          "base_uri": "https://localhost:8080/"
        },
        "id": "-gAkH8Nl19tA",
        "outputId": "51ca727c-d2a2-4022-f1fc-ad9ef181c5dd"
      },
      "execution_count": 6,
      "outputs": [
        {
          "output_type": "stream",
          "name": "stdout",
          "text": [
            "[[-1.41421356]\n",
            " [-0.70710678]\n",
            " [ 0.        ]\n",
            " [ 0.70710678]\n",
            " [ 1.41421356]]\n"
          ]
        }
      ]
    },
    {
      "cell_type": "markdown",
      "source": [
        "## **23. What is sklearn.preprocessing?**"
      ],
      "metadata": {
        "id": "_zWl8M8o2w3O"
      }
    },
    {
      "cell_type": "markdown",
      "source": [
        "## The sklearn.preprocessing module in Scikit-Learn provides a collection of functions and classes for transforming raw data into a format suitable for machine learning models."
      ],
      "metadata": {
        "id": "svV-zN6Y2xka"
      }
    },
    {
      "cell_type": "markdown",
      "source": [
        "# **24. How do we split data for model fitting (training and testing) in Python?**"
      ],
      "metadata": {
        "id": "Vdo4vf012-Nw"
      }
    },
    {
      "cell_type": "markdown",
      "source": [
        "## In machine learning, we need to split the dataset into training and testing sets to evaluate model performance properly. Scikit-Learn's train_test_split() function helps us do this easily.\n",
        "\n"
      ],
      "metadata": {
        "id": "7ijhhNpI3KpY"
      }
    },
    {
      "cell_type": "markdown",
      "source": [
        "# **25. Explain data encoding?**"
      ],
      "metadata": {
        "id": "84VIgKLw3Ofj"
      }
    },
    {
      "cell_type": "markdown",
      "source": [
        "## Data encoding is the process of converting categorical data into numerical format so that machine learning models can understand and process it effectively. Since most ML algorithms work with numerical data, categorical variables (like \"Red\", \"Blue\", \"Green\") must be transformed into numbers."
      ],
      "metadata": {
        "id": "nzuV3X5K3aLW"
      }
    },
    {
      "cell_type": "code",
      "source": [],
      "metadata": {
        "id": "ikEzydNj2mSM"
      },
      "execution_count": null,
      "outputs": []
    }
  ]
}